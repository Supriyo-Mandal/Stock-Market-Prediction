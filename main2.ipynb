{
 "cells": [
  {
   "cell_type": "markdown",
   "id": "54e20da6-bac6-42b7-81c9-a7fe19b5c409",
   "metadata": {},
   "source": [
    "# STOCK MARKET PREDICTION(1st Feature)\n",
    "\n",
    "## IMPORTING THE LIBRARIES\n",
    "- **yfinance** for fetching stock data\n",
    "- **numpy** for numerical operations\n",
    "- **matplotlib.pyplot** for plotting\n",
    "- **sklearn.preprocessing** for data preprocessing\n",
    "- **sklearn.linear_model** and **sklearn.svm** for building the regression models."
   ]
  },
  {
   "cell_type": "code",
   "execution_count": 11,
   "id": "018fb72d-81a8-404c-b94e-0316d2d26ab9",
   "metadata": {},
   "outputs": [],
   "source": [
    "import yfinance as yf\n",
    "import numpy as np\n",
    "import matplotlib.pyplot as plt\n",
    "from sklearn.preprocessing import MinMaxScaler\n",
    "from sklearn.linear_model import LinearRegression\n",
    "from sklearn.svm import SVR"
   ]
  },
  {
   "cell_type": "markdown",
   "id": "164beeed-23f6-4f29-83ec-28ac1edf3050",
   "metadata": {},
   "source": [
    "## FETCHING THE STOCK PRICES\r\n",
    "\r\n",
    "The historical stock data for Tesla (TSLA) from January 1, 2013, to January 1, 2023, is downloaded from Yahoo Finance using the `yf.download` function. The downloaded data is stored in the `data` variable.\r\n",
    "e."
   ]
  },
  {
   "cell_type": "code",
   "execution_count": 23,
   "id": "8fa8bcae-58a9-466b-960c-62c09e571734",
   "metadata": {},
   "outputs": [
    {
     "data": {
      "text/html": [
       "<div>\n",
       "<style scoped>\n",
       "    .dataframe tbody tr th:only-of-type {\n",
       "        vertical-align: middle;\n",
       "    }\n",
       "\n",
       "    .dataframe tbody tr th {\n",
       "        vertical-align: top;\n",
       "    }\n",
       "\n",
       "    .dataframe thead th {\n",
       "        text-align: right;\n",
       "    }\n",
       "</style>\n",
       "<table border=\"1\" class=\"dataframe\">\n",
       "  <thead>\n",
       "    <tr style=\"text-align: right;\">\n",
       "      <th></th>\n",
       "      <th>Open</th>\n",
       "      <th>High</th>\n",
       "      <th>Low</th>\n",
       "      <th>Close</th>\n",
       "      <th>Adj Close</th>\n",
       "      <th>Volume</th>\n",
       "    </tr>\n",
       "    <tr>\n",
       "      <th>Date</th>\n",
       "      <th></th>\n",
       "      <th></th>\n",
       "      <th></th>\n",
       "      <th></th>\n",
       "      <th></th>\n",
       "      <th></th>\n",
       "    </tr>\n",
       "  </thead>\n",
       "  <tbody>\n",
       "    <tr>\n",
       "      <th>2013-01-02</th>\n",
       "      <td>2.333333</td>\n",
       "      <td>2.363333</td>\n",
       "      <td>2.314000</td>\n",
       "      <td>2.357333</td>\n",
       "      <td>2.357333</td>\n",
       "      <td>17922000</td>\n",
       "    </tr>\n",
       "    <tr>\n",
       "      <th>2013-01-03</th>\n",
       "      <td>2.345333</td>\n",
       "      <td>2.363333</td>\n",
       "      <td>2.316667</td>\n",
       "      <td>2.318000</td>\n",
       "      <td>2.318000</td>\n",
       "      <td>11130000</td>\n",
       "    </tr>\n",
       "    <tr>\n",
       "      <th>2013-01-04</th>\n",
       "      <td>2.320000</td>\n",
       "      <td>2.320000</td>\n",
       "      <td>2.261333</td>\n",
       "      <td>2.293333</td>\n",
       "      <td>2.293333</td>\n",
       "      <td>10110000</td>\n",
       "    </tr>\n",
       "    <tr>\n",
       "      <th>2013-01-07</th>\n",
       "      <td>2.320000</td>\n",
       "      <td>2.320000</td>\n",
       "      <td>2.260000</td>\n",
       "      <td>2.289333</td>\n",
       "      <td>2.289333</td>\n",
       "      <td>6630000</td>\n",
       "    </tr>\n",
       "    <tr>\n",
       "      <th>2013-01-08</th>\n",
       "      <td>2.300000</td>\n",
       "      <td>2.300000</td>\n",
       "      <td>2.207333</td>\n",
       "      <td>2.245333</td>\n",
       "      <td>2.245333</td>\n",
       "      <td>19260000</td>\n",
       "    </tr>\n",
       "    <tr>\n",
       "      <th>...</th>\n",
       "      <td>...</td>\n",
       "      <td>...</td>\n",
       "      <td>...</td>\n",
       "      <td>...</td>\n",
       "      <td>...</td>\n",
       "      <td>...</td>\n",
       "    </tr>\n",
       "    <tr>\n",
       "      <th>2022-12-23</th>\n",
       "      <td>126.370003</td>\n",
       "      <td>128.619995</td>\n",
       "      <td>121.019997</td>\n",
       "      <td>123.150002</td>\n",
       "      <td>123.150002</td>\n",
       "      <td>166989700</td>\n",
       "    </tr>\n",
       "    <tr>\n",
       "      <th>2022-12-27</th>\n",
       "      <td>117.500000</td>\n",
       "      <td>119.669998</td>\n",
       "      <td>108.760002</td>\n",
       "      <td>109.099998</td>\n",
       "      <td>109.099998</td>\n",
       "      <td>208643400</td>\n",
       "    </tr>\n",
       "    <tr>\n",
       "      <th>2022-12-28</th>\n",
       "      <td>110.349998</td>\n",
       "      <td>116.269997</td>\n",
       "      <td>108.239998</td>\n",
       "      <td>112.709999</td>\n",
       "      <td>112.709999</td>\n",
       "      <td>221070500</td>\n",
       "    </tr>\n",
       "    <tr>\n",
       "      <th>2022-12-29</th>\n",
       "      <td>120.389999</td>\n",
       "      <td>123.570000</td>\n",
       "      <td>117.500000</td>\n",
       "      <td>121.820000</td>\n",
       "      <td>121.820000</td>\n",
       "      <td>221923300</td>\n",
       "    </tr>\n",
       "    <tr>\n",
       "      <th>2022-12-30</th>\n",
       "      <td>119.949997</td>\n",
       "      <td>124.480003</td>\n",
       "      <td>119.750000</td>\n",
       "      <td>123.180000</td>\n",
       "      <td>123.180000</td>\n",
       "      <td>157777300</td>\n",
       "    </tr>\n",
       "  </tbody>\n",
       "</table>\n",
       "<p>2518 rows × 6 columns</p>\n",
       "</div>"
      ],
      "text/plain": [
       "                  Open        High         Low       Close   Adj Close  \\\n",
       "Date                                                                     \n",
       "2013-01-02    2.333333    2.363333    2.314000    2.357333    2.357333   \n",
       "2013-01-03    2.345333    2.363333    2.316667    2.318000    2.318000   \n",
       "2013-01-04    2.320000    2.320000    2.261333    2.293333    2.293333   \n",
       "2013-01-07    2.320000    2.320000    2.260000    2.289333    2.289333   \n",
       "2013-01-08    2.300000    2.300000    2.207333    2.245333    2.245333   \n",
       "...                ...         ...         ...         ...         ...   \n",
       "2022-12-23  126.370003  128.619995  121.019997  123.150002  123.150002   \n",
       "2022-12-27  117.500000  119.669998  108.760002  109.099998  109.099998   \n",
       "2022-12-28  110.349998  116.269997  108.239998  112.709999  112.709999   \n",
       "2022-12-29  120.389999  123.570000  117.500000  121.820000  121.820000   \n",
       "2022-12-30  119.949997  124.480003  119.750000  123.180000  123.180000   \n",
       "\n",
       "               Volume  \n",
       "Date                   \n",
       "2013-01-02   17922000  \n",
       "2013-01-03   11130000  \n",
       "2013-01-04   10110000  \n",
       "2013-01-07    6630000  \n",
       "2013-01-08   19260000  \n",
       "...               ...  \n",
       "2022-12-23  166989700  \n",
       "2022-12-27  208643400  \n",
       "2022-12-28  221070500  \n",
       "2022-12-29  221923300  \n",
       "2022-12-30  157777300  \n",
       "\n",
       "[2518 rows x 6 columns]"
      ]
     },
     "execution_count": 23,
     "metadata": {},
     "output_type": "execute_result"
    }
   ],
   "source": [
    "# Download historical stock data for Tesla (TSLA) from Yahoo Finance\n",
    "ticker = \"TSLA\"\n",
    "data = yf.download(ticker, start=\"2013-01-01\", end=\"2023-01-01\", progress=False)\n",
    "data"
   ]
  },
  {
   "cell_type": "markdown",
   "id": "453efcc3-3f34-4b44-ad92-9455b94fc7a8",
   "metadata": {},
   "source": [
    "## EXTRACTING CLOSE PRICE FROM DATASET\r\n",
    "\r\n",
    "The closing prices ('Close') from the downloaded data are extracted and reshaped into a 2D array with a single column using the `values.reshape(-1, 1)` method. This reshaping is done to prepare the data for normalization.\r\n"
   ]
  },
  {
   "cell_type": "code",
   "execution_count": 33,
   "id": "9ee60d07-9438-4faa-b9e6-54047dc0bd91",
   "metadata": {},
   "outputs": [
    {
     "data": {
      "text/plain": [
       "array([[  2.35733294],\n",
       "       [  2.31800008],\n",
       "       [  2.29333305],\n",
       "       ...,\n",
       "       [112.70999908],\n",
       "       [121.81999969],\n",
       "       [123.18000031]])"
      ]
     },
     "execution_count": 33,
     "metadata": {},
     "output_type": "execute_result"
    }
   ],
   "source": [
    "# Extract the 'Close' prices\n",
    "prices = data['Close'].values.reshape(-1, 1)"
   ]
  },
  {
   "cell_type": "markdown",
   "id": "de4eddf6-d6c3-4159-b61a-2b6bbbda27b9",
   "metadata": {},
   "source": [
    "## NORMALIZE THE DATASET\n",
    "\n",
    "The `MinMaxScaler` from `sklearn.preprocessing` is used to normalize the closing prices to the range [0, 1] using the `fit_transform` method.\n"
   ]
  },
  {
   "cell_type": "code",
   "execution_count": 37,
   "id": "ee3b4776-d9c7-4f5d-9491-0b34eec6b841",
   "metadata": {},
   "outputs": [
    {
     "name": "stdout",
     "output_type": "stream",
     "text": [
      "MinMaxScaler()\n",
      "[[4.00545738e-04]\n",
      " [3.04088696e-04]\n",
      " [2.43597091e-04]\n",
      " ...\n",
      " [2.71021342e-01]\n",
      " [2.93362040e-01]\n",
      " [2.96697206e-01]]\n"
     ]
    }
   ],
   "source": [
    "# Normalize the data\n",
    "scaler = MinMaxScaler(feature_range=(0, 1))\n",
    "prices_scaled = scaler.fit_transform(prices)\n",
    "print(prices_scaled)"
   ]
  },
  {
   "cell_type": "markdown",
   "id": "8e342ec8-e542-428d-97a7-c263c9f4961a",
   "metadata": {},
   "source": [
    "## CREATING SEQUENCES FOR TRAINING\r\n",
    "\r\n",
    "- A function `create_sequences` is defined to create input-output pairs for training the regression models.\r\n",
    "- It takes the normalized prices data and a `sequence_length` parameter as input.\r\n",
    "- Inside the function, a loop iterates through the data to create input sequences (`x`) and their corresponding output values (`y`) based on the `sequence_length`.\r\n",
    "- The sequences are stored in separate lists `x` and `y`.\r\n",
    "- The function returns the input sequences `x` and their corresponding output values `y` as NumPy arrays.\r\n"
   ]
  },
  {
   "cell_type": "code",
   "execution_count": 39,
   "id": "bb506a56-ad54-4bb0-84e1-c68a1701b543",
   "metadata": {},
   "outputs": [],
   "source": [
    "# Create sequences for training\n",
    "def create_sequences(data, sequence_length):\n",
    "    x, y = [], []\n",
    "    for i in range(len(data) - sequence_length):\n",
    "        x.append(data[i:(i + sequence_length), 0])\n",
    "        y.append(data[i + sequence_length, 0])\n",
    "    return np.array(x), np.array(y)\n",
    "\n",
    "# Set sequence length and create sequences\n",
    "sequence_length = 10\n",
    "x, y = create_sequences(prices_scaled, sequence_length)"
   ]
  },
  {
   "cell_type": "markdown",
   "id": "d606d1a6-1da6-458c-8f7d-e702d2c32c71",
   "metadata": {},
   "source": [
    "## TRAINING THE MODELS\n",
    "\n",
    "Two regression models are trained:\n",
    "\n",
    "### SUPPORT VECTOR MACHINE WITH RBF KERNEL\n",
    "The SVM model (`svr_rbf`) is initialized with the following parameters:\n",
    "- Kernel: RBF (Radial Basis Function)\n",
    "- C: 100\n",
    "- Gamma: 0.1\n",
    "- Epsilon: 0.1\n",
    "\n",
    "It is then trained on all the input sequences except the last 10 days using the `fit` method.\n",
    "\n",
    "### LINEAR REGRESSION MODEL\n",
    "The Linear Regression model (`linear_reg`) is initialized and trained in a similar manner.\n"
   ]
  },
  {
   "cell_type": "code",
   "execution_count": 7,
   "id": "b1e846ac-a4a9-4cf0-a991-e157e24ce0a7",
   "metadata": {},
   "outputs": [
    {
     "data": {
      "text/html": [
       "<style>#sk-container-id-1 {color: black;}#sk-container-id-1 pre{padding: 0;}#sk-container-id-1 div.sk-toggleable {background-color: white;}#sk-container-id-1 label.sk-toggleable__label {cursor: pointer;display: block;width: 100%;margin-bottom: 0;padding: 0.3em;box-sizing: border-box;text-align: center;}#sk-container-id-1 label.sk-toggleable__label-arrow:before {content: \"▸\";float: left;margin-right: 0.25em;color: #696969;}#sk-container-id-1 label.sk-toggleable__label-arrow:hover:before {color: black;}#sk-container-id-1 div.sk-estimator:hover label.sk-toggleable__label-arrow:before {color: black;}#sk-container-id-1 div.sk-toggleable__content {max-height: 0;max-width: 0;overflow: hidden;text-align: left;background-color: #f0f8ff;}#sk-container-id-1 div.sk-toggleable__content pre {margin: 0.2em;color: black;border-radius: 0.25em;background-color: #f0f8ff;}#sk-container-id-1 input.sk-toggleable__control:checked~div.sk-toggleable__content {max-height: 200px;max-width: 100%;overflow: auto;}#sk-container-id-1 input.sk-toggleable__control:checked~label.sk-toggleable__label-arrow:before {content: \"▾\";}#sk-container-id-1 div.sk-estimator input.sk-toggleable__control:checked~label.sk-toggleable__label {background-color: #d4ebff;}#sk-container-id-1 div.sk-label input.sk-toggleable__control:checked~label.sk-toggleable__label {background-color: #d4ebff;}#sk-container-id-1 input.sk-hidden--visually {border: 0;clip: rect(1px 1px 1px 1px);clip: rect(1px, 1px, 1px, 1px);height: 1px;margin: -1px;overflow: hidden;padding: 0;position: absolute;width: 1px;}#sk-container-id-1 div.sk-estimator {font-family: monospace;background-color: #f0f8ff;border: 1px dotted black;border-radius: 0.25em;box-sizing: border-box;margin-bottom: 0.5em;}#sk-container-id-1 div.sk-estimator:hover {background-color: #d4ebff;}#sk-container-id-1 div.sk-parallel-item::after {content: \"\";width: 100%;border-bottom: 1px solid gray;flex-grow: 1;}#sk-container-id-1 div.sk-label:hover label.sk-toggleable__label {background-color: #d4ebff;}#sk-container-id-1 div.sk-serial::before {content: \"\";position: absolute;border-left: 1px solid gray;box-sizing: border-box;top: 0;bottom: 0;left: 50%;z-index: 0;}#sk-container-id-1 div.sk-serial {display: flex;flex-direction: column;align-items: center;background-color: white;padding-right: 0.2em;padding-left: 0.2em;position: relative;}#sk-container-id-1 div.sk-item {position: relative;z-index: 1;}#sk-container-id-1 div.sk-parallel {display: flex;align-items: stretch;justify-content: center;background-color: white;position: relative;}#sk-container-id-1 div.sk-item::before, #sk-container-id-1 div.sk-parallel-item::before {content: \"\";position: absolute;border-left: 1px solid gray;box-sizing: border-box;top: 0;bottom: 0;left: 50%;z-index: -1;}#sk-container-id-1 div.sk-parallel-item {display: flex;flex-direction: column;z-index: 1;position: relative;background-color: white;}#sk-container-id-1 div.sk-parallel-item:first-child::after {align-self: flex-end;width: 50%;}#sk-container-id-1 div.sk-parallel-item:last-child::after {align-self: flex-start;width: 50%;}#sk-container-id-1 div.sk-parallel-item:only-child::after {width: 0;}#sk-container-id-1 div.sk-dashed-wrapped {border: 1px dashed gray;margin: 0 0.4em 0.5em 0.4em;box-sizing: border-box;padding-bottom: 0.4em;background-color: white;}#sk-container-id-1 div.sk-label label {font-family: monospace;font-weight: bold;display: inline-block;line-height: 1.2em;}#sk-container-id-1 div.sk-label-container {text-align: center;}#sk-container-id-1 div.sk-container {/* jupyter's `normalize.less` sets `[hidden] { display: none; }` but bootstrap.min.css set `[hidden] { display: none !important; }` so we also need the `!important` here to be able to override the default hidden behavior on the sphinx rendered scikit-learn.org. See: https://github.com/scikit-learn/scikit-learn/issues/21755 */display: inline-block !important;position: relative;}#sk-container-id-1 div.sk-text-repr-fallback {display: none;}</style><div id=\"sk-container-id-1\" class=\"sk-top-container\"><div class=\"sk-text-repr-fallback\"><pre>LinearRegression()</pre><b>In a Jupyter environment, please rerun this cell to show the HTML representation or trust the notebook. <br />On GitHub, the HTML representation is unable to render, please try loading this page with nbviewer.org.</b></div><div class=\"sk-container\" hidden><div class=\"sk-item\"><div class=\"sk-estimator sk-toggleable\"><input class=\"sk-toggleable__control sk-hidden--visually\" id=\"sk-estimator-id-1\" type=\"checkbox\" checked><label for=\"sk-estimator-id-1\" class=\"sk-toggleable__label sk-toggleable__label-arrow\">LinearRegression</label><div class=\"sk-toggleable__content\"><pre>LinearRegression()</pre></div></div></div></div></div>"
      ],
      "text/plain": [
       "LinearRegression()"
      ]
     },
     "execution_count": 7,
     "metadata": {},
     "output_type": "execute_result"
    }
   ],
   "source": [
    "# Train a Support Vector Machine (SVM) model\n",
    "svr_rbf = SVR(kernel='rbf', C=100, gamma=0.1, epsilon=.1)\n",
    "svr_rbf.fit(x[:-10], y[:-10])  # Train on all data except the last 10 days\n",
    "\n",
    "# Train a Linear Regression model\n",
    "linear_reg = LinearRegression()\n",
    "linear_reg.fit(x[:-10], y[:-10])  # Train on all data except the last 10 days"
   ]
  },
  {
   "cell_type": "markdown",
   "id": "d272e5f7-6abd-4b72-84ee-50c6ef75060c",
   "metadata": {},
   "source": [
    "## PREDICTING ON THE LAST 10 DAYS:\n",
    "\n",
    "The last 10 days' input sequences (`x_pred`) are selected for prediction using both the SVM and Linear Regression models.\n",
    "\n",
    "The `predict` method is used to obtain the predicted output values (`y_pred_svm` and `y_pred_linear`) from the SVM and Linear Regression models, respectively.\n"
   ]
  },
  {
   "cell_type": "code",
   "execution_count": 8,
   "id": "19da0449-1a22-4153-803a-83b7eb142866",
   "metadata": {},
   "outputs": [],
   "source": [
    "# Predict on the last 10 days using the trained models\n",
    "x_pred = x[-10:]  # Use the last 10 days as input for prediction\n",
    "y_pred_svm = svr_rbf.predict(x_pred)\n",
    "y_pred_linear = linear_reg.predict(x_pred)"
   ]
  },
  {
   "cell_type": "markdown",
   "id": "0c5d7499-5f6b-410e-a000-a13c912395bf",
   "metadata": {},
   "source": [
    "### INVERSE TRANFORMING RESULT:\n",
    "\n",
    "After obtaining the predicted output values `y_pred_svm` and `y_pred_linear` from the SVM and Linear Regression models, respectively, the inverse transformation is applied to these predictions. This step is necessary because the models were trained on normalized data, and the predictions need to be transformed back to the original price scale for meaningful interpretation and comparison with the actual prices.\n",
    "\n",
    "The `scaler.inverse_transform` method is used to perform this inverse transformation. This method reverses the scaling transformation applied to the data during normalization, effectively converting the scaled predictions back to their original scale.\n",
    "\n",
    "The inverse transformation is applied as follows:\n",
    "\n",
    "```python\n",
    "# Inverse transform the scaled predictions to get the original scale\n",
    "y_pred_svm_actual = scaler.inverse_transform(y_pred_svm.reshape(-1, 1))\n",
    "y_pred_linear_actual = scaler.inverse_transform(y_pred_linear.reshape(-1, 1))\n"
   ]
  },
  {
   "cell_type": "code",
   "execution_count": 9,
   "id": "08a962d7-5f20-4bea-97aa-57a9f56d7660",
   "metadata": {},
   "outputs": [],
   "source": [
    "# Inverse transform to get back original prices for the last 10 days\n",
    "y_test_actual = scaler.inverse_transform(y[-10:].reshape(-1, 1)).flatten()\n",
    "y_pred_actual_svm = scaler.inverse_transform(y_pred_svm.reshape(-1, 1)).flatten()\n",
    "y_pred_actual_linear = scaler.inverse_transform(y_pred_linear.reshape(-1, 1)).flatten()"
   ]
  },
  {
   "cell_type": "markdown",
   "id": "e6f38b69-8179-4829-9983-e084d026d632",
   "metadata": {},
   "source": [
    "### PLOTTING THE RESULTS\n",
    "\n",
    "Finally, the actual prices for the last 10 days (`y_test_actual`) and the predicted prices from both models (`y_pred_actual_svm` and `y_pred_actual_linear`) are plotted against the dates using `matplotlib.pyplot`. The actual prices are plotted as black circles, the SVM predicted prices as a green line, and the Linear Regression predicted prices as a blue line. The plot is labeled and displayed using `plt.show()`.\n"
   ]
  },
  {
   "cell_type": "code",
   "execution_count": 50,
   "id": "32d807dd-7faa-4382-bb10-ecf7c953f57e",
   "metadata": {},
   "outputs": [
    {
     "data": {
      "text/plain": [
       "Text(0, 0.5, 'Stock Price')"
      ]
     },
     "execution_count": 50,
     "metadata": {},
     "output_type": "execute_result"
    },
    {
     "data": {
      "image/png": "[encoded data removed]",
      "text/plain": [
       "<Figure size 1200x600 with 1 Axes>"
      ]
     },
     "metadata": {},
     "output_type": "display_data"
    }
   ],
   "source": [
    "# Plot the results\n",
    "plt.figure(figsize=(12, 6))\n",
    "plt.scatter(data.index[-10:], y_test_actual, label='Actual Prices', color='black', marker='o')\n",
    "plt.plot(data.index[-10:], y_pred_actual_svm, label='SVM Predicted Prices', color='green', marker='o')\n",
    "plt.plot(data.index[-10:], y_pred_actual_linear, label='Linear Regression Predicted Prices', color='blue', marker='o')\n",
    "plt.title('Original vs Predicted Prices (Last 10 Days)')\n",
    "plt.xlabel('Date')\n",
    "plt.ylabel('Stock Price')\n",
    "plt.legend()\n",
    "plt.show()"
   ]
  },
  {
   "cell_type": "code",
   "execution_count": null,
   "id": "3a45faa0-31f8-4f2e-bb9f-fe3a46579720",
   "metadata": {},
   "outputs": [],
   "source": []
  },
  {
   "cell_type": "code",
   "execution_count": null,
   "id": "96622e73-e9b6-4ccf-a6d0-6395e7e97d13",
   "metadata": {},
   "outputs": [],
   "source": []
  },
  {
   "cell_type": "code",
   "execution_count": null,
   "id": "801b2453-599b-4850-a086-de7a29080caf",
   "metadata": {},
   "outputs": [],
   "source": []
  }
 ],
 "metadata": {
  "kernelspec": {
   "display_name": "Python 3 (ipykernel)",
   "language": "python",
   "name": "python3"
  },
  "language_info": {
   "codemirror_mode": {
    "name": "ipython",
    "version": 3
   },
   "file_extension": ".py",
   "mimetype": "text/x-python",
   "name": "python",
   "nbconvert_exporter": "python",
   "pygments_lexer": "ipython3",
   "version": "3.12.0"
  }
 },
 "nbformat": 4,
 "nbformat_minor": 5
}
